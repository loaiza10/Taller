{
 "cells": [
  {
   "cell_type": "code",
   "execution_count": 1,
   "metadata": {},
   "outputs": [],
   "source": [
    "import numpy as np\n",
    "import pandas as pd\n",
    "import scipy.io as sio"
   ]
  },
  {
   "cell_type": "code",
   "execution_count": 2,
   "metadata": {},
   "outputs": [
    {
     "name": "stdout",
     "output_type": "stream",
     "text": [
      "(400, 30, 10, 10)\n",
      "1200000\n"
     ]
    }
   ],
   "source": [
    "#1 Crear una matriz de 4 dimensiones de dimension 1200000\n",
    "#primero especifico las dimensiones que deseo\n",
    "dim1 = 400\n",
    "dim2 = 30\n",
    "dim3 = 10\n",
    "dim4 = 10\n",
    "\n",
    "#Calcular el size total\n",
    "size= dim1*dim2*dim3*dim4\n",
    "\n",
    "#Crear la matriz aleatoria con 4 dimensiones con el tamaño específicado\n",
    "matriz_4d = np.random.rand(dim1,dim2,dim3,dim4)\n",
    "\n",
    "#Verificar el mañano de la matriz\n",
    "print(matriz_4d.shape)\n",
    "print(matriz_4d.size)"
   ]
  }
 ],
 "metadata": {
  "kernelspec": {
   "display_name": "Python 3",
   "language": "python",
   "name": "python3"
  },
  "language_info": {
   "codemirror_mode": {
    "name": "ipython",
    "version": 3
   },
   "file_extension": ".py",
   "mimetype": "text/x-python",
   "name": "python",
   "nbconvert_exporter": "python",
   "pygments_lexer": "ipython3",
   "version": "3.9.13"
  }
 },
 "nbformat": 4,
 "nbformat_minor": 2
}
