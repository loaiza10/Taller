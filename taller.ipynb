{
 "cells": [
  {
   "cell_type": "code",
   "execution_count": 1,
   "metadata": {},
   "outputs": [],
   "source": [
    "import numpy as np\n",
    "import pandas as pd\n",
    "import scipy.io as sio"
   ]
  },
  {
   "cell_type": "code",
   "execution_count": 7,
   "metadata": {},
   "outputs": [
    {
     "name": "stdout",
     "output_type": "stream",
     "text": [
      "(400, 10, 30, 10)\n",
      "1200000\n"
     ]
    }
   ],
   "source": [
    "#1 Crear una matriz de 4 dimensiones de dimension 1200000\n",
    "#primero especifico las dimensiones que deseo\n",
    "dim1 = 400\n",
    "dim2 = 10\n",
    "dim3 = 30\n",
    "dim4 = 10\n",
    "\n",
    "#Calcular el size total\n",
    "size= dim1*dim2*dim3*dim4\n",
    "\n",
    "#Crear la matriz aleatoria con 4 dimensiones con el tamaño específicado\n",
    "matriz_4d = np.random.rand(dim1,dim2,dim3,dim4)\n",
    "\n",
    "#Verificar el mañano de la matriz\n",
    "print(matriz_4d.shape)\n",
    "print(matriz_4d.size)"
   ]
  },
  {
   "cell_type": "code",
   "execution_count": 9,
   "metadata": {},
   "outputs": [
    {
     "name": "stdout",
     "output_type": "stream",
     "text": [
      "Forma de la matriz de 3 dimensiones: (400, 30, 100)\n",
      "Tamaño total de la matriz de 3 dimensiones: 1200000\n",
      "(400, 30, 100)\n",
      "1200000\n"
     ]
    }
   ],
   "source": [
    "#2 Crear una copia de la matriz creada en el ítem anterior de solo 3 dimensiones\n",
    "#Especifico las nuevas dimensiones y multiplico la dim4 por 10 para que me de el size\n",
    "dim1_new = dim1\n",
    "dim3_new = dim3\n",
    "dim4_new = dim4*10\n",
    "\n",
    "#elimino la dimension 2 y creo la matriz de 3 dimensiones\n",
    "matriz_3d = matriz_4d.reshape(dim1_new, dim3_new, dim4_new)\n",
    "\n",
    "# Verificar la forma y el tamaño de la nueva matriz de 3 dimensiones\n",
    "print(\"Forma de la matriz de 3 dimensiones:\", matriz_3d.shape)\n",
    "print(\"Tamaño total de la matriz de 3 dimensiones:\", matriz_3d.size)\n",
    "copy = matriz_3d.copy()\n",
    "print(copy.shape)\n",
    "print(copy.size)"
   ]
  },
  {
   "cell_type": "code",
   "execution_count": null,
   "metadata": {},
   "outputs": [],
   "source": []
  }
 ],
 "metadata": {
  "kernelspec": {
   "display_name": "Python 3",
   "language": "python",
   "name": "python3"
  },
  "language_info": {
   "codemirror_mode": {
    "name": "ipython",
    "version": 3
   },
   "file_extension": ".py",
   "mimetype": "text/x-python",
   "name": "python",
   "nbconvert_exporter": "python",
   "pygments_lexer": "ipython3",
   "version": "3.9.13"
  }
 },
 "nbformat": 4,
 "nbformat_minor": 2
}
