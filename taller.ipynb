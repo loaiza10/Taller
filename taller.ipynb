{
 "cells": [
  {
   "cell_type": "code",
   "execution_count": 1,
   "metadata": {},
   "outputs": [],
   "source": [
    "import numpy as np\n",
    "import pandas as pd\n",
    "import scipy.io as sio"
   ]
  },
  {
   "cell_type": "code",
   "execution_count": 7,
   "metadata": {},
   "outputs": [
    {
     "name": "stdout",
     "output_type": "stream",
     "text": [
      "(400, 10, 30, 10)\n",
      "1200000\n"
     ]
    }
   ],
   "source": [
    "#1 Crear una matriz de 4 dimensiones de dimension 1200000\n",
    "#primero especifico las dimensiones que deseo\n",
    "dim1 = 400\n",
    "dim2 = 10\n",
    "dim3 = 30\n",
    "dim4 = 10\n",
    "\n",
    "#Calcular el size total\n",
    "size= dim1*dim2*dim3*dim4\n",
    "\n",
    "#Crear la matriz aleatoria con 4 dimensiones con el tamaño específicado\n",
    "matriz_4d = np.random.rand(dim1,dim2,dim3,dim4)\n",
    "\n",
    "#Verificar el mañano de la matriz\n",
    "print(matriz_4d.shape)\n",
    "print(matriz_4d.size)"
   ]
  },
  {
   "cell_type": "code",
   "execution_count": 12,
   "metadata": {},
   "outputs": [
    {
     "name": "stdout",
     "output_type": "stream",
     "text": [
      "-----------------------------------------------------\n",
      "Forma de la matriz de 3 dimensiones: (400, 30, 100)\n",
      "-----------------------------------------------------\n",
      "Tamaño total de la matriz de 3 dimensiones: 1200000\n",
      "--------\n",
      "(400, 30, 100)\n",
      "-------\n",
      "1200000\n"
     ]
    }
   ],
   "source": [
    "#2 Crear una copia de la matriz creada en el ítem anterior de solo 3 dimensiones\n",
    "#Especifico las nuevas dimensiones y multiplico la dim4 por 10 para que me de el size\n",
    "dim1_new = dim1\n",
    "dim3_new = dim3\n",
    "dim4_new = dim4*10\n",
    "\n",
    "#elimino la dimension 2 y creo la matriz de 3 dimensiones\n",
    "matriz_3d = matriz_4d.reshape(dim1_new, dim3_new, dim4_new)\n",
    "\n",
    "# Verificar la forma y el tamaño de la nueva matriz de 3 dimensiones\n",
    "print(\"-----------------------------------------------------\")\n",
    "print(\"Forma de la matriz de 3 dimensiones:\", matriz_3d.shape)\n",
    "print(\"-----------------------------------------------------\")\n",
    "print(\"Tamaño total de la matriz de 3 dimensiones:\", matriz_3d.size)\n",
    "copia = matriz_3d.copy()\n",
    "print(\"--------\")\n",
    "print(copia.shape)\n",
    "print(\"-------\")\n",
    "print(copia.size)"
   ]
  },
  {
   "cell_type": "code",
   "execution_count": 13,
   "metadata": {},
   "outputs": [
    {
     "name": "stdout",
     "output_type": "stream",
     "text": [
      "----------------------------------\n",
      "La forma de la matriz es: (400, 30, 100)\n",
      "------------------------------------\n",
      "El tamaño de la matriz es: 1200000\n",
      "------------------------------------------------\n",
      "Las dimensiones de la matriz son: 3\n",
      "------------------------------------------------\n",
      "Los datos de la matriz son de tipo: float64\n",
      "---------------------------------------------------\n",
      "Tamaño en bytes de cada elemento del array: 8\n",
      "-------------------------------\n",
      "Tamaño total en bytes: 9600000\n"
     ]
    }
   ],
   "source": [
    "#3 De lamatriz 3D, muestra todos los atributos propios\n",
    "forma = matriz_3d.shape #me da la forma de la matriz, es decir, el número de elem en cada dimensión\n",
    "print(\"----------------------------------\")\n",
    "print(f\"La forma de la matriz es: {forma}\")\n",
    "tamaño = matriz_3d.size #me da el numero total de atributos en la matriz\n",
    "print(\"------------------------------------\")\n",
    "print(f\"El tamaño de la matriz es: {tamaño}\")\n",
    "dimensiones = matriz_3d.ndim #Numero de dimensiones de la matriz\n",
    "print(\"------------------------------------------------\")\n",
    "print(f\"Las dimensiones de la matriz son: {dimensiones}\")\n",
    "tipoDatos = matriz_3d.dtype\n",
    "print(\"------------------------------------------------\")\n",
    "print(f\"Los datos de la matriz son de tipo: {tipoDatos}\")\n",
    "byte = matriz_3d.itemsize\n",
    "print(\"---------------------------------------------------\")\n",
    "print(f\"Tamaño en bytes de cada elemento del array: {byte}\")\n",
    "byteT = matriz_3d.nbytes\n",
    "print(\"-------------------------------\")\n",
    "print(f\"Tamaño total en bytes: {byteT}\")"
   ]
  }
 ],
 "metadata": {
  "kernelspec": {
   "display_name": "Python 3",
   "language": "python",
   "name": "python3"
  },
  "language_info": {
   "codemirror_mode": {
    "name": "ipython",
    "version": 3
   },
   "file_extension": ".py",
   "mimetype": "text/x-python",
   "name": "python",
   "nbconvert_exporter": "python",
   "pygments_lexer": "ipython3",
   "version": "3.9.13"
  }
 },
 "nbformat": 4,
 "nbformat_minor": 2
}
