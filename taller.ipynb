{
 "cells": [
  {
   "cell_type": "code",
   "execution_count": 1,
   "metadata": {},
   "outputs": [],
   "source": [
    "import numpy as np\n",
    "import pandas as pd\n",
    "import scipy.io as sio"
   ]
  },
  {
   "cell_type": "code",
   "execution_count": 7,
   "metadata": {},
   "outputs": [
    {
     "name": "stdout",
     "output_type": "stream",
     "text": [
      "(400, 10, 30, 10)\n",
      "1200000\n"
     ]
    }
   ],
   "source": [
    "#1 Crear una matriz de 4 dimensiones de dimension 1200000\n",
    "#primero especifico las dimensiones que deseo\n",
    "dim1 = 400\n",
    "dim2 = 10\n",
    "dim3 = 30\n",
    "dim4 = 10\n",
    "\n",
    "#Calcular el size total\n",
    "size= dim1*dim2*dim3*dim4\n",
    "\n",
    "#Crear la matriz aleatoria con 4 dimensiones con el tamaño específicado\n",
    "matriz_4d = np.random.rand(dim1,dim2,dim3,dim4)\n",
    "\n",
    "#Verificar el mañano de la matriz\n",
    "print(matriz_4d.shape)\n",
    "print(matriz_4d.size)"
   ]
  },
  {
   "cell_type": "code",
   "execution_count": 12,
   "metadata": {},
   "outputs": [
    {
     "name": "stdout",
     "output_type": "stream",
     "text": [
      "-----------------------------------------------------\n",
      "Forma de la matriz de 3 dimensiones: (400, 30, 100)\n",
      "-----------------------------------------------------\n",
      "Tamaño total de la matriz de 3 dimensiones: 1200000\n",
      "--------\n",
      "(400, 30, 100)\n",
      "-------\n",
      "1200000\n"
     ]
    }
   ],
   "source": [
    "#2 Crear una copia de la matriz creada en el ítem anterior de solo 3 dimensiones\n",
    "#Especifico las nuevas dimensiones y multiplico la dim4 por 10 para que me de el size\n",
    "dim1_new = dim1\n",
    "dim3_new = dim3\n",
    "dim4_new = dim4*10\n",
    "\n",
    "#elimino la dimension 2 y creo la matriz de 3 dimensiones\n",
    "matriz_3d = matriz_4d.reshape(dim1_new, dim3_new, dim4_new)\n",
    "\n",
    "# Verificar la forma y el tamaño de la nueva matriz de 3 dimensiones\n",
    "print(\"-----------------------------------------------------\")\n",
    "print(\"Forma de la matriz de 3 dimensiones:\", matriz_3d.shape)\n",
    "print(\"-----------------------------------------------------\")\n",
    "print(\"Tamaño total de la matriz de 3 dimensiones:\", matriz_3d.size)\n",
    "\n",
    "# Creo la copia de la matriz de 3 dimensiones\n",
    "copia = matriz_3d.copy()\n",
    "print(\"--------\")\n",
    "print(copia.shape)\n",
    "print(\"-------\")\n",
    "print(copia.size)"
   ]
  },
  {
   "cell_type": "code",
   "execution_count": 13,
   "metadata": {},
   "outputs": [
    {
     "name": "stdout",
     "output_type": "stream",
     "text": [
      "----------------------------------\n",
      "La forma de la matriz es: (400, 30, 100)\n",
      "------------------------------------\n",
      "El tamaño de la matriz es: 1200000\n",
      "------------------------------------------------\n",
      "Las dimensiones de la matriz son: 3\n",
      "------------------------------------------------\n",
      "Los datos de la matriz son de tipo: float64\n",
      "---------------------------------------------------\n",
      "Tamaño en bytes de cada elemento del array: 8\n",
      "-------------------------------\n",
      "Tamaño total en bytes: 9600000\n"
     ]
    }
   ],
   "source": [
    "#3 De lamatriz 3D, muestra todos los atributos propios\n",
    "forma = matriz_3d.shape #me da la forma de la matriz, es decir, el número de elem en cada dimensión\n",
    "print(\"----------------------------------\")\n",
    "print(f\"La forma de la matriz es: {forma}\")\n",
    "tamaño = matriz_3d.size #me da el numero total de atributos en la matriz\n",
    "print(\"------------------------------------\")\n",
    "print(f\"El tamaño de la matriz es: {tamaño}\")\n",
    "dimensiones = matriz_3d.ndim #Numero de dimensiones de la matriz\n",
    "print(\"------------------------------------------------\")\n",
    "print(f\"Las dimensiones de la matriz son: {dimensiones}\")\n",
    "tipoDatos = matriz_3d.dtype\n",
    "print(\"------------------------------------------------\")\n",
    "print(f\"Los datos de la matriz son de tipo: {tipoDatos}\")\n",
    "byte = matriz_3d.itemsize\n",
    "print(\"---------------------------------------------------\")\n",
    "print(f\"Tamaño en bytes de cada elemento del array: {byte}\")\n",
    "byteT = matriz_3d.nbytes\n",
    "print(\"-------------------------------\")\n",
    "print(f\"Tamaño total en bytes: {byteT}\")"
   ]
  },
  {
   "cell_type": "code",
   "execution_count": 14,
   "metadata": {},
   "outputs": [
    {
     "name": "stdout",
     "output_type": "stream",
     "text": [
      "----------------------------------\n",
      "La forma de la matriz es: (30000, 40)\n",
      "------------------------------------\n",
      "El tamaño de la matriz es: 1200000\n",
      "------------------------------------------------\n",
      "Las dimensiones de la matriz son: 2\n",
      "------------------------------------------------\n",
      "Los datos de la matriz son de tipo: float64\n",
      "---------------------------------------------------\n",
      "Tamaño en bytes de cada elemento del array: 8\n",
      "-------------------------------\n",
      "Tamaño total en bytes: 9600000\n"
     ]
    }
   ],
   "source": [
    "#4 modificar su forma y pasarla a 2d\n",
    "f= np.reshape(matriz_3d,(30000,40))\n",
    "forma = f.shape #me da la forma de la matriz, es decir, el número de elem en cada dimensión\n",
    "print(\"----------------------------------\")\n",
    "print(f\"La forma de la matriz es: {forma}\")\n",
    "tamaño = f.size #me da el numero total de atributos en la matriz\n",
    "print(\"------------------------------------\")\n",
    "print(f\"El tamaño de la matriz es: {tamaño}\")\n",
    "dimensiones = f.ndim #Numero de dimensiones de la matriz\n",
    "print(\"------------------------------------------------\")\n",
    "print(f\"Las dimensiones de la matriz son: {dimensiones}\")\n",
    "tipoDatos = f.dtype\n",
    "print(\"------------------------------------------------\")\n",
    "print(f\"Los datos de la matriz son de tipo: {tipoDatos}\")\n",
    "byte = f.itemsize\n",
    "print(\"---------------------------------------------------\")\n",
    "print(f\"Tamaño en bytes de cada elemento del array: {byte}\")\n",
    "byteT = f.nbytes\n",
    "print(\"-------------------------------\")\n",
    "print(f\"Tamaño total en bytes: {byteT}\")"
   ]
  },
  {
   "cell_type": "code",
   "execution_count": 15,
   "metadata": {},
   "outputs": [
    {
     "name": "stdout",
     "output_type": "stream",
     "text": [
      "             0         1         2         3         4         5         6   \\\n",
      "0      0.096054  0.212372  0.094553  0.375565  0.343107  0.849882  0.117012   \n",
      "1      0.518845  0.025797  0.027888  0.292197  0.814537  0.665420  0.577038   \n",
      "2      0.992334  0.107428  0.491488  0.554234  0.908435  0.588696  0.488275   \n",
      "3      0.197241  0.204012  0.465329  0.788418  0.158103  0.763968  0.225769   \n",
      "4      0.367138  0.460561  0.132321  0.098782  0.820942  0.065202  0.885784   \n",
      "...         ...       ...       ...       ...       ...       ...       ...   \n",
      "29995  0.138678  0.367963  0.277979  0.004631  0.983708  0.018746  0.146635   \n",
      "29996  0.554733  0.819200  0.626777  0.827807  0.372574  0.479479  0.524994   \n",
      "29997  0.898816  0.660489  0.987659  0.537035  0.804446  0.021307  0.478699   \n",
      "29998  0.415075  0.468647  0.528714  0.229230  0.861677  0.494696  0.224383   \n",
      "29999  0.457610  0.561758  0.933591  0.221899  0.318621  0.721613  0.142955   \n",
      "\n",
      "             7         8         9   ...        30        31        32  \\\n",
      "0      0.271610  0.523951  0.066193  ...  0.174541  0.405654  0.336469   \n",
      "1      0.791408  0.348301  0.068722  ...  0.667641  0.479998  0.973690   \n",
      "2      0.800610  0.073069  0.816708  ...  0.925462  0.583528  0.967711   \n",
      "3      0.793145  0.560066  0.935230  ...  0.640063  0.708307  0.383179   \n",
      "4      0.719541  0.446098  0.980666  ...  0.978053  0.023374  0.926900   \n",
      "...         ...       ...       ...  ...       ...       ...       ...   \n",
      "29995  0.027983  0.507191  0.569698  ...  0.631831  0.523969  0.156473   \n",
      "29996  0.891932  0.618186  0.400632  ...  0.459777  0.134401  0.275818   \n",
      "29997  0.413799  0.615232  0.913426  ...  0.600623  0.494986  0.622663   \n",
      "29998  0.334540  0.208763  0.553327  ...  0.968064  0.328648  0.880994   \n",
      "29999  0.436135  0.276614  0.333717  ...  0.204680  0.456402  0.185957   \n",
      "\n",
      "             33        34        35        36        37        38        39  \n",
      "0      0.019489  0.233866  0.187147  0.890927  0.617227  0.191423  0.205575  \n",
      "1      0.783911  0.443147  0.363623  0.901841  0.990407  0.447272  0.487708  \n",
      "2      0.436977  0.702387  0.504548  0.606495  0.670303  0.902707  0.384180  \n",
      "3      0.573492  0.168117  0.366559  0.403408  0.293824  0.881947  0.392925  \n",
      "4      0.154336  0.874610  0.623071  0.924590  0.471332  0.550764  0.017890  \n",
      "...         ...       ...       ...       ...       ...       ...       ...  \n",
      "29995  0.716040  0.691513  0.324057  0.496112  0.117950  0.709739  0.458422  \n",
      "29996  0.028918  0.383729  0.620205  0.345894  0.653930  0.126080  0.199109  \n",
      "29997  0.239440  0.020976  0.524597  0.519970  0.516500  0.551642  0.079466  \n",
      "29998  0.806589  0.991748  0.954160  0.476971  0.242907  0.090383  0.755723  \n",
      "29999  0.343078  0.698263  0.085579  0.908980  0.104955  0.561559  0.841111  \n",
      "\n",
      "[30000 rows x 40 columns]\n"
     ]
    }
   ],
   "source": [
    "#5 Crea una función que reciba la matriz anterior y la pase a un objeto tipo dataframe de Pandas\n",
    "\n",
    "def matriz_a_dataframe(matriz):\n",
    "    # Convertir la matriz en un DataFrame\n",
    "    df = pd.DataFrame(matriz)\n",
    "    return df\n",
    "\n",
    "dataframe_resultante = matriz_a_dataframe(f)\n",
    "print(dataframe_resultante) "
   ]
  }
 ],
 "metadata": {
  "kernelspec": {
   "display_name": "Python 3",
   "language": "python",
   "name": "python3"
  },
  "language_info": {
   "codemirror_mode": {
    "name": "ipython",
    "version": 3
   },
   "file_extension": ".py",
   "mimetype": "text/x-python",
   "name": "python",
   "nbconvert_exporter": "python",
   "pygments_lexer": "ipython3",
   "version": "3.9.13"
  }
 },
 "nbformat": 4,
 "nbformat_minor": 2
}
